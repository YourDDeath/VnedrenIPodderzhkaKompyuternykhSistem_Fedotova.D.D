{
 "cells": [
  {
   "cell_type": "markdown",
   "id": "fe4e69fb",
   "metadata": {},
   "source": [
    "# Кортежи. Преобразование коллекций"
   ]
  },
  {
   "cell_type": "markdown",
   "id": "6e6a7711",
   "metadata": {},
   "source": [
    "## Кортежи"
   ]
  },
  {
   "cell_type": "markdown",
   "id": "937706ca",
   "metadata": {},
   "source": [
    "Мы уже знаем такие коллекции, как списки, множества и строки. Сегодня мы рассмотрим еще один тип данных, являющийся коллекцией, который называется tuple (читается «тюпл» или «тьюпл», а переводится как «кортеж»)."
   ]
  },
  {
   "cell_type": "markdown",
   "id": "278ed908",
   "metadata": {},
   "source": [
    "> ### Кортежи\n",
    "Кортежи очень похожи на списки, они тоже являются индексированной коллекцией, только вместо квадратных в них используются круглые скобки (причем их часто можно пропускать):"
   ]
  },
  {
   "cell_type": "code",
   "execution_count": 1,
   "id": "c3b8ff00",
   "metadata": {},
   "outputs": [
    {
     "name": "stdout",
     "output_type": "stream",
     "text": [
      "2 7 ('7', 'пик', 18)\n"
     ]
    }
   ],
   "source": [
    "# кортеж из двух элементов; тип элементов может быть любой\n",
    "card = ('7', 'пик')           \n",
    "          \n",
    "# пустой кортеж (из 0 элементов)\n",
    "empty = ()\n",
    " \n",
    "# кортеж из 1 элемента - запятая нужна, чтобы отличить от обычных скобок\n",
    "t = (18,)\n",
    "\n",
    "# длина, значение отдельного элемента, сложение - как у списков\n",
    "print(len(card), card[0], card + t)"
   ]
  },
  {
   "cell_type": "markdown",
   "id": "4776b3be",
   "metadata": {},
   "source": [
    "Кортежи можно сравнивать между собой:"
   ]
  },
  {
   "cell_type": "code",
   "execution_count": 5,
   "id": "6ea3a761",
   "metadata": {},
   "outputs": [
    {
     "ename": "TypeError",
     "evalue": "'<' not supported between instances of 'int' and 'str'",
     "output_type": "error",
     "traceback": [
      "\u001b[1;31m---------------------------------------------------------------------------\u001b[0m",
      "\u001b[1;31mTypeError\u001b[0m                                 Traceback (most recent call last)",
      "Cell \u001b[1;32mIn[5], line 7\u001b[0m\n\u001b[0;32m      4\u001b[0m (\u001b[38;5;124m'\u001b[39m\u001b[38;5;124m7\u001b[39m\u001b[38;5;124m'\u001b[39m, \u001b[38;5;124m'\u001b[39m\u001b[38;5;124mчервей\u001b[39m\u001b[38;5;124m'\u001b[39m) \u001b[38;5;241m<\u001b[39m (\u001b[38;5;124m'\u001b[39m\u001b[38;5;124m7\u001b[39m\u001b[38;5;124m'\u001b[39m, \u001b[38;5;124m'\u001b[39m\u001b[38;5;124mтреф\u001b[39m\u001b[38;5;124m'\u001b[39m)    \u001b[38;5;66;03m# False\u001b[39;00m\n\u001b[0;32m      6\u001b[0m \u001b[38;5;66;03m# А вот так сравнивать нельзя: элементы кортежей разных типов\u001b[39;00m\n\u001b[1;32m----> 7\u001b[0m \u001b[43m(\u001b[49m\u001b[38;5;241;43m1\u001b[39;49m\u001b[43m,\u001b[49m\u001b[43m \u001b[49m\u001b[38;5;241;43m2\u001b[39;49m\u001b[43m)\u001b[49m\u001b[43m \u001b[49m\u001b[38;5;241;43m<\u001b[39;49m\u001b[43m \u001b[49m\u001b[43m(\u001b[49m\u001b[38;5;124;43m'\u001b[39;49m\u001b[38;5;124;43m7\u001b[39;49m\u001b[38;5;124;43m'\u001b[39;49m\u001b[43m,\u001b[49m\u001b[43m \u001b[49m\u001b[38;5;124;43m'\u001b[39;49m\u001b[38;5;124;43mпик\u001b[39;49m\u001b[38;5;124;43m'\u001b[39;49m\u001b[43m)\u001b[49m \n",
      "\u001b[1;31mTypeError\u001b[0m: '<' not supported between instances of 'int' and 'str'"
     ]
    }
   ],
   "source": [
    "(1, 2) == (1, 3)    # False\n",
    "(1, 2) < (1, 3)     # True\n",
    "(1, 2) < (5,)       # True\n",
    "('7', 'червей') < ('7', 'треф')    # False\n",
    "\n",
    "# А вот так сравнивать нельзя: элементы кортежей разных типов\n",
    "(1, 2) < ('7', 'пик') "
   ]
  },
  {
   "cell_type": "markdown",
   "id": "842b212a",
   "metadata": {},
   "source": [
    "Обратите внимание: операции == и != применимы к любым кортежам, независимо от типов элементов. А вот операции <, >, <=, >= применимы только в том случае, когда соответствующие элементы кортежей имеют один тип. Поэтому сравнивать ('7', 'червей') и ('7', 'треф') можно, а вот кортежи (1, 2) и ('7', 'пик') нельзя — интерпретатор Python выдаст ошибку. При этом сравнение происходит последовательно элемент за элементом, а если элементы равны — просматривается следующий элемент."
   ]
  },
  {
   "cell_type": "markdown",
   "id": "db5521ff",
   "metadata": {},
   "source": [
    "> ### Неизменяемость\n",
    "Важнейшее техническое отличие кортежей от списков — неизменяемость. Как и к строке, к кортежу нельзя добавить элемент методом append, а существующий элемент нельзя изменить, обратившись к нему по индексу. Это выглядит недостатком, но в дальнейшем мы поймем, что у кортежей есть и преимущества.\n"
   ]
  },
  {
   "cell_type": "markdown",
   "id": "8c6a6947",
   "metadata": {},
   "source": [
    "Есть и семантическое, то есть смысловое, отличие. Если списки предназначены скорее для объединения неопределенного количества однородных сущностей, то кортеж — быстрый способ объединить под одним именем несколько разнородных объектов, имеющих различный смысл."
   ]
  },
  {
   "cell_type": "markdown",
   "id": "1e45b2e1",
   "metadata": {},
   "source": [
    "\n",
    "\n",
    "Хотя, конечно, ничто не мешает элементам списка иметь разный тип, а элементам кортежа — одинаковый.\n",
    "\n"
   ]
  },
  {
   "cell_type": "markdown",
   "id": "b370c654",
   "metadata": {},
   "source": [
    "Так, в примере выше кортеж card состоит из двух элементов, означающих достоинство карты и ее масть."
   ]
  },
  {
   "cell_type": "markdown",
   "id": "d110f163",
   "metadata": {},
   "source": [
    "Еще одним приятным отличием кортежей от списков является то, что они могут быть элементами множества:"
   ]
  },
  {
   "cell_type": "code",
   "execution_count": 6,
   "id": "4fac6416",
   "metadata": {},
   "outputs": [
    {
     "name": "stdout",
     "output_type": "stream",
     "text": [
      "{('7', 'червей'), ('7', 'треф')}\n"
     ]
    }
   ],
   "source": [
    "a = {('7', 'червей'), ('7', 'треф')}\n",
    "print(a) # -> {('7', 'треф'), ('7', 'червей')}"
   ]
  },
  {
   "cell_type": "markdown",
   "id": "e248559d",
   "metadata": {},
   "source": [
    "## Присваивание кортежей"
   ]
  },
  {
   "cell_type": "markdown",
   "id": "e9aa0419",
   "metadata": {},
   "source": [
    "Кортежи можно присваивать друг другу. Именно благодаря этому работает красивая особенность Python — уже знакомая нам конструкция вида a, b = b, a.\n",
    "\n",
    "Как известно, по левую сторону от знака присваивания = должно стоять имя переменной либо имя списка с индексом или несколькими индексами. Они указывают, куда можно «положить» значение, записанное справа от знака присваивания. Однако слева от знака присваивания можно записать еще и кортеж из таких обозначений (грубо говоря, имен переменных), а справа — кортеж из значений, которые следует в них поместить. Значения справа указываются в том же порядке, что и переменные слева (здесь скобки вокруг кортежа необязательны):"
   ]
  },
  {
   "cell_type": "code",
   "execution_count": 7,
   "id": "1c773d63",
   "metadata": {},
   "outputs": [],
   "source": [
    "n, s = 10, 'hello'\n",
    "# то же самое, что\n",
    "n = 10\n",
    "s = 'hello'"
   ]
  },
  {
   "cell_type": "markdown",
   "id": "34bc94ed",
   "metadata": {},
   "source": [
    "В примере выше мы изготовили кортеж, стоящий справа от =, прямо на этой же строчке. Но можно заготовить его и заранее:"
   ]
  },
  {
   "cell_type": "code",
   "execution_count": 8,
   "id": "c63e74bc",
   "metadata": {},
   "outputs": [
    {
     "name": "stdout",
     "output_type": "stream",
     "text": [
      "Достоинство карты: 7\n",
      "Масть карты: пик\n"
     ]
    }
   ],
   "source": [
    "cards = [('7', 'пик'), ('Д', 'треф'), ('Т', 'пик')]\n",
    "value, suit = cards[0]\n",
    "print('Достоинство карты:', value)\n",
    "print('Масть карты:', suit)"
   ]
  },
  {
   "cell_type": "markdown",
   "id": "3d30250a",
   "metadata": {},
   "source": [
    "Самое приятное: сначала вычисляются все значения справа, и лишь затем они кладутся в левую часть оператора присваивания. Поэтому можно, например, поменять местами значения переменных a и b, написав: a, b = b, a."
   ]
  },
  {
   "cell_type": "code",
   "execution_count": 9,
   "id": "69510d39",
   "metadata": {},
   "outputs": [
    {
     "data": {
      "text/plain": [
       "(2, 1)"
      ]
     },
     "execution_count": 9,
     "metadata": {},
     "output_type": "execute_result"
    }
   ],
   "source": [
    "a, b = 1, 2  # теперь a == 1 and b == 2\n",
    "a, b = b, a  # теперь a == 2 and b == 1\n",
    "a, b"
   ]
  },
  {
   "cell_type": "markdown",
   "id": "8ac30f15",
   "metadata": {},
   "source": [
    "Пример ниже выведет «1 2 3». Убедитесь, что вы понимаете, почему так."
   ]
  },
  {
   "cell_type": "code",
   "execution_count": 10,
   "id": "24a63b74",
   "metadata": {},
   "outputs": [
    {
     "name": "stdout",
     "output_type": "stream",
     "text": [
      "1 2 3\n"
     ]
    }
   ],
   "source": [
    "a, b, c = 3, 2, 1\n",
    "b, a, c = c, a, b\n",
    "print(b, c, a)"
   ]
  },
  {
   "cell_type": "markdown",
   "id": "09df479b",
   "metadata": {},
   "source": [
    "С использованием кортежей многие алгоритмы приобретают волшебную краткость. Например, вычисление чисел Фибоначчи:"
   ]
  },
  {
   "cell_type": "code",
   "execution_count": 12,
   "id": "4e0fe846",
   "metadata": {},
   "outputs": [
    {
     "name": "stdout",
     "output_type": "stream",
     "text": [
      "1\n",
      "1\n",
      "2\n",
      "3\n",
      "5\n",
      "8\n"
     ]
    }
   ],
   "source": [
    "n = int(input())\n",
    "f1, f2 = 0, 1\n",
    "for i in range(n):\n",
    "    print(f2)\n",
    "    f1, f2 = f2, f1 + f2"
   ]
  },
  {
   "cell_type": "markdown",
   "id": "9d2462c7",
   "metadata": {},
   "source": [
    "# Сортировка пузырьком"
   ]
  },
  {
   "cell_type": "markdown",
   "id": "118659dd",
   "metadata": {},
   "source": [
    "Итак, у нас есть удобный способ поменять местами значения двух переменных. Теперь рассмотрим алгоритм, в котором эта операция играет важную роль.\n",
    "\n",
    "Часто бывает нужно, чтобы данные не просто содержались в списке, а были отсортированы (например, по возрастанию), то есть чтобы каждый следующий элемент списка был не меньше предыдущего. В качестве данных могут выступать числа или строки. Скажем, отсортированный список [4, 1, 9, 3, 1] примет вид [1, 1, 3, 4, 9]. Конечно, для этого есть стандартные функции и методы, но как они работают?\n",
    "\n",
    "Классический алгоритм сортировки — сортировка пузырьком (по-научному — сортировка обменом). Она называется так потому, что элементы последовательно «всплывают» (отправляются в конец списка), как пузырьки воздуха в воде. Сначала всплывает самый большой элемент, за ним — следующий по старшинству и т. д. Для этого мы сравниваем по очереди все соседние пары и при необходимости меняем элементы местами, ставя больший элемент на более старшее место.\n",
    "\n",
    "Идею наглядно объясняет венгерский народный танец (https://www.youtube.com/watch?v=lyZQPjUT5B4):"
   ]
  },
  {
   "cell_type": "code",
   "execution_count": 13,
   "id": "3e02457a",
   "metadata": {},
   "outputs": [
    {
     "data": {
      "image/jpeg": "[encoded data removed]",
      "text/html": [
       "\n",
       "        <iframe\n",
       "            width=\"800\"\n",
       "            height=\"300\"\n",
       "            src=\"https://www.youtube.com/embed/lyZQPjUT5B4\"\n",
       "            frameborder=\"0\"\n",
       "            allowfullscreen\n",
       "            \n",
       "        ></iframe>\n",
       "        "
      ],
      "text/plain": [
       "<IPython.lib.display.YouTubeVideo at 0x1939bf27c10>"
      ]
     },
     "execution_count": 13,
     "metadata": {},
     "output_type": "execute_result"
    }
   ],
   "source": [
    "from IPython.display import YouTubeVideo\n",
    "\n",
    "YouTubeVideo('lyZQPjUT5B4', width=800, height=300)"
   ]
  },
  {
   "cell_type": "markdown",
   "id": "d0a75002",
   "metadata": {},
   "source": [
    "А полный код программы, которая считывает, сортирует и выводит список, выглядит, например, так:"
   ]
  },
  {
   "cell_type": "code",
   "execution_count": 14,
   "id": "58d72671",
   "metadata": {},
   "outputs": [
    {
     "name": "stdout",
     "output_type": "stream",
     "text": [
      "[2, 3, 3, 3, 5, 6, 6, 6, 6, 8, 8, 9, 24, 67, 234, 765]\n"
     ]
    }
   ],
   "source": [
    "n = int(input())    # количество элементов\n",
    "a = []\n",
    "for i in range(n):  # считываем элементы списка\n",
    "    a.append(int(input()))\n",
    "# Сортировка пузырьком:\n",
    "for i in range(n - 1):\n",
    "    for j in range(n - 1 - i):\n",
    "        if a[j] > a[j + 1]:\n",
    "            a[j], a[j + 1] = a[j + 1], a[j]\n",
    "print(a)"
   ]
  },
  {
   "cell_type": "markdown",
   "id": "4de038ab",
   "metadata": {},
   "source": [
    "# Преобразования между коллекциями"
   ]
  },
  {
   "cell_type": "markdown",
   "id": "cc51c6fd",
   "metadata": {},
   "source": [
    "Итак, на данный момент мы знаем уже четыре вида коллекций: строки, списки, множества и кортежи. У вас может возникнуть вопрос: можно ли из одной коллекции сделать другую? Например, преобразовать строку в список или во множество? Конечно, да, для этого можно использовать функции list, set и tuple. Если в качестве аргумента передать этим функциям какую-либо коллекцию, новая коллекция будет создана на ее основе."
   ]
  },
  {
   "cell_type": "markdown",
   "id": "39c7d9c3",
   "metadata": {},
   "source": [
    "> Конечно, на самом деле list, set и tuple — это не функции, а конструкторы объектов. Но говорить об этом сейчас совсем необязательно, к этому вопросу мы в любом случае вернемся в конце года при изучении объектно-ориентированного программирования."
   ]
  },
  {
   "cell_type": "markdown",
   "id": "9cc1b42e",
   "metadata": {},
   "source": [
    "Зачем нужно преобразование коллекций?\n",
    "\n",
    "Преобразование строки в список позволяет получить список символов. В некоторых задачах это может быть полезно: например, если мы хотим изменить один символ строки:"
   ]
  },
  {
   "cell_type": "code",
   "execution_count": 17,
   "id": "c42ab4c7",
   "metadata": {},
   "outputs": [
    {
     "data": {
      "text/plain": [
       "['с', 'и', 'м', 'п', 'а', 'т', 'и', 'ч', 'н', 'ы', 'й']"
      ]
     },
     "execution_count": 17,
     "metadata": {},
     "output_type": "execute_result"
    }
   ],
   "source": [
    "s = 'симпотичный'   # Написали с ошибкой\n",
    "a = list(s)         # a == ['с', 'и', 'м', 'п', 'о', 'т', 'и,' 'ч', 'н', 'ы', 'й']\n",
    "a[4] = 'а'          # a == ['с', 'и', 'м', 'п', 'а', 'т', 'и,' 'ч', 'н', 'ы', 'й']\n",
    "a"
   ]
  },
  {
   "cell_type": "markdown",
   "id": "76d66a53",
   "metadata": {},
   "source": [
    "С этой же целью может потребоваться преобразование кортежа в список:"
   ]
  },
  {
   "cell_type": "code",
   "execution_count": 18,
   "id": "5e3cc6ea",
   "metadata": {},
   "outputs": [
    {
     "data": {
      "text/plain": [
       "['Лев Толстой', 1828]"
      ]
     },
     "execution_count": 18,
     "metadata": {},
     "output_type": "execute_result"
    }
   ],
   "source": [
    "# В кортеже (писатель, дата рождения) допущена ошибка\n",
    "writer = ('Лев Толстой', 1827)\n",
    "a = list(writer)                # a == ['Лев Толстой', 1827]\n",
    "a[1] = 1828                     # a == ['Лев Толстой', 1828]\n",
    "a"
   ]
  },
  {
   "cell_type": "markdown",
   "id": "f7b71f1e",
   "metadata": {},
   "source": [
    "Преобразование списка или строки во множество позволяет получить очень интересные результаты. Как вы помните, все элементы множества должны быть уникальны, поэтому при преобразовании списка во множество каждый элемент останется только в одном экземпляре. Таким образом, можно очень легко убрать повторяющиеся элементы и узнать, сколько элементов встречается в списке хотя бы один раз:"
   ]
  },
  {
   "cell_type": "code",
   "execution_count": 19,
   "id": "bd031e6c",
   "metadata": {},
   "outputs": [
    {
     "name": "stdout",
     "output_type": "stream",
     "text": [
      "Количество элементов в списке без повторений:  3\n"
     ]
    }
   ],
   "source": [
    "a = [1, 2, 1, 1, 2, 2, 3, 3]\n",
    "print('Количество элементов в списке без повторений: ', len(set(a)))"
   ]
  },
  {
   "cell_type": "markdown",
   "id": "31f798f8",
   "metadata": {},
   "source": [
    "Таким же образом можно получить все буквы без повторений, которые встречаются в строке:"
   ]
  },
  {
   "cell_type": "code",
   "execution_count": 20,
   "id": "cc5ace7d",
   "metadata": {},
   "outputs": [
    {
     "name": "stdout",
     "output_type": "stream",
     "text": [
      "{'и', 'Т', 'е', 'г', 'ц', 'а', 'р', 'н', 'п', 'в', 'ы', 'к', 'д', 'л', 'о', 'т'} 16\n"
     ]
    }
   ],
   "source": [
    "a = set(\"Тетрагидропиранилциклопентилтетрагидропиридопиридиновые\")\n",
    "print(a, len(a))"
   ]
  },
  {
   "cell_type": "markdown",
   "id": "c4e00984",
   "metadata": {},
   "source": [
    "Преобразование множества в список тоже возможно, но при этом нужно учитывать, что элементы множества не упорядочены и при преобразовании множества в список порядок элементов в нем предсказать заранее не всегда возможно:"
   ]
  },
  {
   "cell_type": "code",
   "execution_count": 21,
   "id": "e8548c0f",
   "metadata": {},
   "outputs": [
    {
     "name": "stdout",
     "output_type": "stream",
     "text": [
      "['Петр', 'Сергей', 'Алексей', 'Иван']\n"
     ]
    }
   ],
   "source": [
    "names = {'Иван', 'Петр', 'Сергей', 'Алексей'}\n",
    "print(list(names))\n",
    "# Возможные варианты вывода на экран - ['Сергей', 'Алексей', 'Иван', 'Петр'], \n",
    "# ['Сергей', 'Петр', 'Иван', 'Алексей'], ['Алексей', 'Иван', 'Петр', 'Сергей'] \n",
    "# и так далее."
   ]
  },
  {
   "cell_type": "markdown",
   "id": "b8b9f9b0",
   "metadata": {},
   "source": [
    "## Упражнения"
   ]
  },
  {
   "cell_type": "markdown",
   "id": "a296987d",
   "metadata": {},
   "source": [
    "### Упражнение 1"
   ]
  },
  {
   "cell_type": "markdown",
   "id": "b12fe062",
   "metadata": {},
   "source": [
    "Получите последовательность целых чисел, которая строится по следующему правилу: начальный член последовательности равен нулю, каждый следующий член последовательности равен количеству совпадений между уже построенным куском последовательности и им же в обратном порядке.\n",
    "\n",
    "Например, первые семь членов последовательности таковы:\n",
    "> 0,1,0,3,0,3,0\n",
    "\n",
    "В обратном порядке:\n",
    ">0,3,0,3,0,1,0\n",
    "\n",
    "Имеется совпадение в пяти позициях, поэтому следующий член последовательности будет равен 5.\n",
    "#### Формат ввода\n",
    "\n",
    "Натуральное число — количество членов последовательности, которые нужно вывести.\n",
    "#### Формат вывода\n",
    "\n",
    "Целые числа — члены последовательности.\n"
   ]
  },
  {
   "cell_type": "markdown",
   "id": "1cba14fa",
   "metadata": {},
   "source": [
    "![title](img/ex1.png)"
   ]
  },
  {
   "cell_type": "code",
   "execution_count": 26,
   "id": "8e25ade1",
   "metadata": {},
   "outputs": [
    {
     "name": "stdout",
     "output_type": "stream",
     "text": [
      "Введите количество членов последовательности\n",
      "[0, 1, 0, 3, 0, 3, 0, 5]\n"
     ]
    }
   ],
   "source": [
    "# код решения\n",
    "\n",
    "print('Введите количество членов последовательности')\n",
    "n = int(input())\n",
    "\n",
    "sequence = [0]\n",
    "\n",
    "for _ in range(1, n):\n",
    "    reversed_sequence = sequence[::-1] \n",
    "    matches = sum(1 for i in range(len(sequence)) if sequence[i] == reversed_sequence[i])\n",
    "    sequence.append(matches) \n",
    "\n",
    "print(sequence)"
   ]
  },
  {
   "cell_type": "markdown",
   "id": "a104d7a4",
   "metadata": {},
   "source": [
    "### Упражнение 2"
   ]
  },
  {
   "cell_type": "markdown",
   "id": "f9309a20",
   "metadata": {},
   "source": [
    "Числа Трибоначчи — это последовательность целых чисел, которая определяется так:\n",
    "\n",
    "- первое, второе и третье числа Трибоначчи равны единице;\n",
    "- каждое следующее число Трибоначчи равно сумме трёх предыдущих.\n",
    "\n",
    "В общем, почти как числа Фибоначчи.\n",
    "\n",
    "Напишите программу, которая вычисляет числа Трибоначчи.\n",
    "#### Формат ввода\n",
    "\n",
    "Вводится одно натуральное число N (N <= 75).\n",
    "#### Формат вывода\n",
    "\n",
    "Выводятся первые N чисел Трибоначчи.\n"
   ]
  },
  {
   "attachments": {},
   "cell_type": "markdown",
   "id": "263040d6",
   "metadata": {},
   "source": [
    "![image.png](img/ex2.png)"
   ]
  },
  {
   "cell_type": "code",
   "execution_count": 37,
   "id": "551eb70c",
   "metadata": {},
   "outputs": [
    {
     "name": "stdout",
     "output_type": "stream",
     "text": [
      "1\n",
      "1\n",
      "1\n",
      "3\n",
      "5\n",
      "9\n"
     ]
    }
   ],
   "source": [
    "# код решения\n",
    "\n",
    "n = int(input())\n",
    "t1, t2, t3 = 1, 1, 1\n",
    "print(f'{t1}\\n{t2}')\n",
    "for i in range(n - 2):\n",
    "    print(t3)\n",
    "    t1, t2, t3 = t2, t3, t1 + t2 + t3"
   ]
  },
  {
   "cell_type": "markdown",
   "id": "f89da26b",
   "metadata": {},
   "source": [
    "### Упражнение 3"
   ]
  },
  {
   "cell_type": "markdown",
   "id": "285a1f63",
   "metadata": {},
   "source": [
    "\n",
    "\n",
    "Отсортируйте введённые строки по возрастанию в алфавитном порядке. В этой задаче (и других задачах к этому занятию) под алфавитным порядком подразумевается, что каждая следующая строка должна быть больше предыдущей с точки зрения оператора сравнения «>» в Питоне; в частности, все строчные буквы идут после всех заглавных.\n",
    "#### Формат ввода\n",
    "\n",
    "На первой строке вводится натуральное число N — количество строк.\n",
    "Далее следуют N строк, которые надо будет отсортировать.\n",
    "#### Формат вывода\n",
    "\n",
    "Выводятся те же N строк, но не в том порядке, в котором они вводились, а в алфавитном порядке по возрастанию.\n"
   ]
  },
  {
   "cell_type": "markdown",
   "id": "6043d639",
   "metadata": {},
   "source": [
    "![title](img/ex3.png)"
   ]
  },
  {
   "cell_type": "code",
   "execution_count": 38,
   "id": "9f0bf56e",
   "metadata": {},
   "outputs": [
    {
     "name": "stdout",
     "output_type": "stream",
     "text": [
      "Введите количество строк\n",
      "арбуз\n",
      "дерево\n",
      "яблоко\n"
     ]
    }
   ],
   "source": [
    "# код решения\n",
    "\n",
    "print('Введите количество строк')\n",
    "n = int(input())\n",
    "\n",
    "str = [input() for _ in range(n)]\n",
    "\n",
    "sort_str = sorted(str)\n",
    "\n",
    "for str in sort_str:\n",
    "    print(str)"
   ]
  },
  {
   "cell_type": "markdown",
   "id": "08f98a81",
   "metadata": {},
   "source": [
    "### Упражнение 4"
   ]
  },
  {
   "cell_type": "markdown",
   "id": "6ba7852c",
   "metadata": {},
   "source": [
    "\n",
    "\n",
    "Похоже, начинается шторм, волны все выше и выше. По крайней мере, у каждой волны свой балл волнения моря.\n",
    "\n",
    "Выберите волны, за которыми следует волна с большим баллом волнения.\n",
    "#### Формат ввода\n",
    "\n",
    "Вводится число – количество волн, затем строки: волна и через пробел балл волнения – от 0 (штиль) до 9 (ураган).\n",
    "#### Формат вывода\n",
    "\n",
    "Нужно найти волны, которые имеют волнение меньше, чем у следующей волны. И для таких волн в порядке ввода вывести кортежи:\n",
    "(номер волны по порядку, строка с волной, у которой балл волнения меньше, чем у следующей).\n"
   ]
  },
  {
   "cell_type": "markdown",
   "id": "644aa41b",
   "metadata": {},
   "source": [
    "![title](img/ex4.png)"
   ]
  },
  {
   "cell_type": "code",
   "execution_count": 46,
   "id": "0f1ecc72",
   "metadata": {},
   "outputs": [
    {
     "name": "stdout",
     "output_type": "stream",
     "text": [
      "Введите количество волн\n",
      "Введите волну 1 и её балл волнения\n",
      "Введите волну 2 и её балл волнения\n",
      "Введите волну 3 и её балл волнения\n",
      "(1, 'Волна1', 3)\n"
     ]
    }
   ],
   "source": [
    "# код решения\n",
    "\n",
    "print('Введите количество волн')\n",
    "n = int(input())\n",
    "\n",
    "waves = []\n",
    "for i in range(n):\n",
    "    print(f'Введите волну {i + 1} и её балл волнения')\n",
    "    wave_data = input()\n",
    "    wave, score = wave_data.rsplit(' ', 1) \n",
    "    waves.append((i + 1, wave, int(score)))\n",
    "\n",
    "result = []\n",
    "for i in range(n - 1):\n",
    "    if waves[i][2] < waves[i + 1][2]: \n",
    "        result.append(waves[i])  \n",
    "\n",
    "for item in result:\n",
    "    print(item)"
   ]
  }
 ],
 "metadata": {
  "kernelspec": {
   "display_name": "Python 3",
   "language": "python",
   "name": "python3"
  },
  "language_info": {
   "codemirror_mode": {
    "name": "ipython",
    "version": 3
   },
   "file_extension": ".py",
   "mimetype": "text/x-python",
   "name": "python",
   "nbconvert_exporter": "python",
   "pygments_lexer": "ipython3",
   "version": "3.10.7"
  }
 },
 "nbformat": 4,
 "nbformat_minor": 5
}
